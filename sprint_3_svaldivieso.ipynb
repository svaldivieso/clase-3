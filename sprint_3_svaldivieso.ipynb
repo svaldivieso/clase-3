{
 "cells": [
  {
   "cell_type": "code",
   "execution_count": 10,
   "id": "bfb091c1",
   "metadata": {
    "scrolled": false
   },
   "outputs": [
    {
     "name": "stdout",
     "output_type": "stream",
     "text": [
      "Requirement already satisfied: requests_html in /Users/santiagovaldivieso/Downloads/anaconda3/lib/python3.9/site-packages (0.10.0)\n",
      "Requirement already satisfied: requests in /Users/santiagovaldivieso/Downloads/anaconda3/lib/python3.9/site-packages (from requests_html) (2.27.1)\n",
      "Requirement already satisfied: pyppeteer>=0.0.14 in /Users/santiagovaldivieso/Downloads/anaconda3/lib/python3.9/site-packages (from requests_html) (1.0.2)\n",
      "Requirement already satisfied: w3lib in /Users/santiagovaldivieso/Downloads/anaconda3/lib/python3.9/site-packages (from requests_html) (1.21.0)\n",
      "Requirement already satisfied: fake-useragent in /Users/santiagovaldivieso/Downloads/anaconda3/lib/python3.9/site-packages (from requests_html) (0.1.11)\n",
      "Requirement already satisfied: pyquery in /Users/santiagovaldivieso/Downloads/anaconda3/lib/python3.9/site-packages (from requests_html) (1.4.3)\n",
      "Requirement already satisfied: parse in /Users/santiagovaldivieso/Downloads/anaconda3/lib/python3.9/site-packages (from requests_html) (1.19.0)\n",
      "Requirement already satisfied: bs4 in /Users/santiagovaldivieso/Downloads/anaconda3/lib/python3.9/site-packages (from requests_html) (0.0.1)\n",
      "Requirement already satisfied: tqdm<5.0.0,>=4.42.1 in /Users/santiagovaldivieso/Downloads/anaconda3/lib/python3.9/site-packages (from pyppeteer>=0.0.14->requests_html) (4.64.0)\n",
      "Requirement already satisfied: websockets<11.0,>=10.0 in /Users/santiagovaldivieso/Downloads/anaconda3/lib/python3.9/site-packages (from pyppeteer>=0.0.14->requests_html) (10.3)\n",
      "Requirement already satisfied: pyee<9.0.0,>=8.1.0 in /Users/santiagovaldivieso/Downloads/anaconda3/lib/python3.9/site-packages (from pyppeteer>=0.0.14->requests_html) (8.2.2)\n",
      "Requirement already satisfied: certifi>=2021 in /Users/santiagovaldivieso/Downloads/anaconda3/lib/python3.9/site-packages (from pyppeteer>=0.0.14->requests_html) (2021.10.8)\n",
      "Requirement already satisfied: appdirs<2.0.0,>=1.4.3 in /Users/santiagovaldivieso/Downloads/anaconda3/lib/python3.9/site-packages (from pyppeteer>=0.0.14->requests_html) (1.4.4)\n",
      "Requirement already satisfied: importlib-metadata>=1.4 in /Users/santiagovaldivieso/Downloads/anaconda3/lib/python3.9/site-packages (from pyppeteer>=0.0.14->requests_html) (4.11.3)\n",
      "Requirement already satisfied: urllib3<2.0.0,>=1.25.8 in /Users/santiagovaldivieso/Downloads/anaconda3/lib/python3.9/site-packages (from pyppeteer>=0.0.14->requests_html) (1.26.9)\n",
      "Requirement already satisfied: zipp>=0.5 in /Users/santiagovaldivieso/Downloads/anaconda3/lib/python3.9/site-packages (from importlib-metadata>=1.4->pyppeteer>=0.0.14->requests_html) (3.7.0)\n",
      "Requirement already satisfied: beautifulsoup4 in /Users/santiagovaldivieso/Downloads/anaconda3/lib/python3.9/site-packages (from bs4->requests_html) (4.11.1)\n",
      "Requirement already satisfied: soupsieve>1.2 in /Users/santiagovaldivieso/Downloads/anaconda3/lib/python3.9/site-packages (from beautifulsoup4->bs4->requests_html) (2.3.1)\n",
      "Requirement already satisfied: cssselect>0.7.9 in /Users/santiagovaldivieso/Downloads/anaconda3/lib/python3.9/site-packages (from pyquery->requests_html) (1.1.0)\n",
      "Requirement already satisfied: lxml>=2.1 in /Users/santiagovaldivieso/Downloads/anaconda3/lib/python3.9/site-packages (from pyquery->requests_html) (4.8.0)\n",
      "Requirement already satisfied: idna<4,>=2.5 in /Users/santiagovaldivieso/Downloads/anaconda3/lib/python3.9/site-packages (from requests->requests_html) (3.3)\n",
      "Requirement already satisfied: charset-normalizer~=2.0.0 in /Users/santiagovaldivieso/Downloads/anaconda3/lib/python3.9/site-packages (from requests->requests_html) (2.0.4)\n",
      "Requirement already satisfied: six>=1.4.1 in /Users/santiagovaldivieso/Downloads/anaconda3/lib/python3.9/site-packages (from w3lib->requests_html) (1.16.0)\n"
     ]
    },
    {
     "ename": "NameError",
     "evalue": "name 't_rows' is not defined",
     "output_type": "error",
     "traceback": [
      "\u001b[0;31m---------------------------------------------------------------------------\u001b[0m",
      "\u001b[0;31mNameError\u001b[0m                                 Traceback (most recent call last)",
      "Input \u001b[0;32mIn [10]\u001b[0m, in \u001b[0;36m<cell line: 23>\u001b[0;34m()\u001b[0m\n\u001b[1;32m     20\u001b[0m cierres_ajus \u001b[38;5;241m=\u001b[39m []\n\u001b[1;32m     21\u001b[0m volumen \u001b[38;5;241m=\u001b[39m []\n\u001b[0;32m---> 23\u001b[0m \u001b[38;5;28;01mfor\u001b[39;00m t_row \u001b[38;5;129;01min\u001b[39;00m \u001b[43mt_rows\u001b[49m:\n\u001b[1;32m     24\u001b[0m     fechas\u001b[38;5;241m.\u001b[39mappend (t_row\u001b[38;5;241m.\u001b[39mfind_all(\u001b[38;5;124m'\u001b[39m\u001b[38;5;124mtr\u001b[39m\u001b[38;5;124m'\u001b[39m) [\u001b[38;5;241m0\u001b[39m]\u001b[38;5;241m.\u001b[39mget_text ())\n\u001b[1;32m     25\u001b[0m     aperturas\u001b[38;5;241m.\u001b[39mappend (t_row\u001b[38;5;241m.\u001b[39mfind_all(\u001b[38;5;124m'\u001b[39m\u001b[38;5;124mtr\u001b[39m\u001b[38;5;124m'\u001b[39m) [\u001b[38;5;241m1\u001b[39m]\u001b[38;5;241m.\u001b[39mget_text ())\n",
      "\u001b[0;31mNameError\u001b[0m: name 't_rows' is not defined"
     ]
    }
   ],
   "source": [
    "!pip install requests_html \n",
    "\n",
    "import requests\n",
    "from bs4 import BeautifulSoup\n",
    "from requests_html import HTMLSession\n",
    "\n",
    "url = \"https://es.finance.yahoo.com/quote/TEF/history?p=TEF&.tsrc=fin-srch\"\n",
    "\n",
    "s = HTMLSession()\n",
    "response = s.get(url)\n",
    "\n",
    "soup = BeautifulSoup(response.content, \"html.parser\")\n",
    "t_row = soup.find_all(\"tr\", class_=\"BdT\")\n",
    "\n",
    "fechas = []\n",
    "aperturas = []\n",
    "maximos = []\n",
    "minimos = []\n",
    "cierres = []\n",
    "cierres_ajus = []\n",
    "volumen = []\n",
    "\n",
    "for t_row in t_rows:\n",
    "    fechas.append (t_row.find_all('tr') [0].get_text ())\n",
    "    aperturas.append (t_row.find_all('tr') [1].get_text ())\n",
    "    maximos.append (t_row.find_all('tr') [2].get_text ())\n",
    "    minimos.append (t_row.find_all('tr') [3].get_text ())\n",
    "    cierres.append (t_row.find_all('tr') [4].get_text ())\n",
    "    cierres_ajus.append (t_row.find_all('tr') [5].get_text ())\n",
    "    volumne.append (t_row.find_all('tr') [6].get_text ())\n",
    "\n",
    "print (t_row)"
   ]
  }
 ],
 "metadata": {
  "kernelspec": {
   "display_name": "Python 3 (ipykernel)",
   "language": "python",
   "name": "python3"
  },
  "language_info": {
   "codemirror_mode": {
    "name": "ipython",
    "version": 3
   },
   "file_extension": ".py",
   "mimetype": "text/x-python",
   "name": "python",
   "nbconvert_exporter": "python",
   "pygments_lexer": "ipython3",
   "version": "3.9.12"
  }
 },
 "nbformat": 4,
 "nbformat_minor": 5
}
